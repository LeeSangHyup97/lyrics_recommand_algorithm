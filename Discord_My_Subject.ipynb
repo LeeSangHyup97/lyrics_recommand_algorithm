{
 "cells": [
  {
   "cell_type": "code",
   "execution_count": 5,
   "id": "e30f094d",
   "metadata": {},
   "outputs": [],
   "source": [
    "import selenium\n",
    "import time\n",
    "import pandas as pd\n",
    "from bs4 import BeautifulSoup as bs\n",
    "import requests\n",
    "from itertools import repeat\n",
    "from selenium import webdriver   # selenium 프레임 워크에서 webdriver 가져오기\n",
    "user_title_list = []\n",
    "user_artist_list = []\n",
    "user_lyrics_list = []"
   ]
  },
  {
   "cell_type": "code",
   "execution_count": 6,
   "id": "ed60694d",
   "metadata": {},
   "outputs": [],
   "source": [
    "def input_title():\n",
    "    user_title_list.clear()\n",
    "    title = (input(\"제목을 입력하세요: \"))\n",
    "    user_title_list.append(title)\n",
    "    return title"
   ]
  },
  {
   "cell_type": "code",
   "execution_count": 7,
   "id": "440da510",
   "metadata": {},
   "outputs": [],
   "source": [
    "def get_lyrics(title):\n",
    "    user_lyrics_list.clear()\n",
    "    user_artist_list.clear()\n",
    "    url = \"https://search.naver.com/search.naver?where=nexearch&sm=top_hty&fbm=1&ie=utf8&query=\" + title + \"+가사\"\n",
    "    headers = { \"User-Agent\":\"Mozilla/5.0\" }\n",
    "    html = requests.get(url, headers = headers ).text\n",
    "    soup = bs(html, \"html.parser\")\n",
    "    \n",
    "    type07 = soup.select('div.intro_box > p')\n",
    "    lyrics = str(type07)\n",
    "    lyrics=lyrics.replace('<p class=\"text no_ellipsis type_center _content_text\" style=\"max-height: 50rem; -webkit-line-clamp: 21;\">','\"').replace('<br>','').replace('</br>','\\n').replace('<br/>','\\n').replace('</p>','\\n').replace('  ','\\n')\n",
    "    user_lyrics_list.append(lyrics)\n",
    "    \n",
    "    type08 = soup.select('span.txt > a')\n",
    "    artist = str(type08)\n",
    "    front_index = artist.find('>')\n",
    "    artist=artist.replace(artist[0:front_index+1],' ').replace('</a>]',' ')\n",
    "    user_artist_list.append(artist)\n",
    "    \n",
    "    return user_title_list, user_artist_list, user_lyrics_list "
   ]
  },
  {
   "cell_type": "code",
   "execution_count": 8,
   "id": "a2599309",
   "metadata": {},
   "outputs": [
    {
     "name": "stdout",
     "output_type": "stream",
     "text": [
      "제목을 입력하세요: 가을 타나 봐\n"
     ]
    },
    {
     "data": {
      "text/plain": [
       "(['가을 타나 봐'],\n",
       " [' 바이브 '],\n",
       " ['[\" 계절은 돌고 돌아 돌아오는데 사랑은 돌고 돌아 떠나버리고 추억을 돌고 돌아 멈춰 서있는 다시 그 계절이 왔나 봐 나 가을 타나 봐 니가 그리워진 이 밤 나 혼자 널 기다리나 봐 나 가을 타나 봐 니가 불어오는 이 밤 나 혼자서 가을 타나 봐 Baby I\\'m lonely lonely lonely lonely \\n 추억은 Falling falling falling falling\\n 아무리 멀리 멀리 떠나 보내도 돌아오는 난 가을 타나 봐\\n 내 곁을 스쳐가는 많은 사람들 뭘 해도 채워지지 않는 시간들\\n 아무리 잊어봐도 짙어져 가는 외로운 계절이 왔나 봐\\n 나 가을 타나 봐 니가 그리워진 이 밤 나 혼자 널 기다리나 봐\\n 나 가을 타나 봐 니가 불어오는 이 밤 나 혼자서 가을 타나 봐\\n Baby I\\'m lonely lonely lonely lonely\\n 추억은 Falling falling falling falling\\n 아무리 멀리 멀리 떠나 보내도 돌아오는 난 가을 타나 봐\\n You\\'re always breathing in my mind 가슴 한구석이 시려와\\n Baby I\\'m missing you every night 니가 그리워\\n 나 외로웠나 봐 니가 없는 이 거리에 나 혼자 널 서성이나 봐\\n 참 보고 싶나 봐 너를 보내놓고 아직 나 혼자 널 사랑하나 봐\\n 아직인가 봐 사랑하나 봐\\n 니가 날 떠나가던 시린 이 계절이 돌아오면 가을 타나 봐\\n 그리운가 봐 가을 타나 봐 \\n\\n\\n\\n\\n]'])"
      ]
     },
     "execution_count": 8,
     "metadata": {},
     "output_type": "execute_result"
    }
   ],
   "source": [
    "get_lyrics(input_title())"
   ]
  }
 ],
 "metadata": {
  "kernelspec": {
   "display_name": "Python 3",
   "language": "python",
   "name": "python3"
  },
  "language_info": {
   "codemirror_mode": {
    "name": "ipython",
    "version": 3
   },
   "file_extension": ".py",
   "mimetype": "text/x-python",
   "name": "python",
   "nbconvert_exporter": "python",
   "pygments_lexer": "ipython3",
   "version": "3.8.8"
  }
 },
 "nbformat": 4,
 "nbformat_minor": 5
}
